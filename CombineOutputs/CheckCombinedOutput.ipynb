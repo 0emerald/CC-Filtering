{
 "cells": [
  {
   "cell_type": "code",
   "execution_count": 9,
   "metadata": {},
   "outputs": [],
   "source": [
    "import pandas as pd\n",
    "import numpy as np"
   ]
  },
  {
   "cell_type": "code",
   "execution_count": 2,
   "metadata": {},
   "outputs": [],
   "source": [
    "df = pd.read_csv('df202350.csv', header=None, nrows=100_000)"
   ]
  },
  {
   "cell_type": "code",
   "execution_count": 93,
   "metadata": {},
   "outputs": [
    {
     "data": {
      "text/html": [
       "<div>\n",
       "<style scoped>\n",
       "    .dataframe tbody tr th:only-of-type {\n",
       "        vertical-align: middle;\n",
       "    }\n",
       "\n",
       "    .dataframe tbody tr th {\n",
       "        vertical-align: top;\n",
       "    }\n",
       "\n",
       "    .dataframe thead th {\n",
       "        text-align: right;\n",
       "    }\n",
       "</style>\n",
       "<table border=\"1\" class=\"dataframe\">\n",
       "  <thead>\n",
       "    <tr style=\"text-align: right;\">\n",
       "      <th></th>\n",
       "      <th>webpage</th>\n",
       "      <th>website</th>\n",
       "      <th>postcodes</th>\n",
       "      <th>CCpath</th>\n",
       "      <th>text</th>\n",
       "    </tr>\n",
       "  </thead>\n",
       "  <tbody>\n",
       "    <tr>\n",
       "      <th>218</th>\n",
       "      <td>https://www.stashedaway.co.uk/15-easy-ways-to-...</td>\n",
       "      <td>www.stashedaway.co.uk</td>\n",
       "      <td>['BS7 9ST']</td>\n",
       "      <td>https://data.commoncrawl.org/crawl-data/CC-MAI...</td>\n",
       "      <td>15 easy ways to save energy costs\\n{{{ data.va...</td>\n",
       "    </tr>\n",
       "    <tr>\n",
       "      <th>6099</th>\n",
       "      <td>https://engine-shed.co.uk/news/august-investme...</td>\n",
       "      <td>engine-shed.co.uk</td>\n",
       "      <td>['BS1 6QH']</td>\n",
       "      <td>https://data.commoncrawl.org/crawl-data/CC-MAI...</td>\n",
       "      <td>august investment news - engine shed\\nwe use c...</td>\n",
       "    </tr>\n",
       "    <tr>\n",
       "      <th>7192</th>\n",
       "      <td>https://www.jojusolar.co.uk/solar-power-news-a...</td>\n",
       "      <td>www.jojusolar.co.uk</td>\n",
       "      <td>['EC1A 4AE', 'OX4 1JE', 'S1 4SE']</td>\n",
       "      <td>https://data.commoncrawl.org/crawl-data/CC-MAI...</td>\n",
       "      <td>why we were shortlisted for installer of the y...</td>\n",
       "    </tr>\n",
       "    <tr>\n",
       "      <th>8656</th>\n",
       "      <td>https://www.jojusolar.co.uk/portfolio-category...</td>\n",
       "      <td>www.jojusolar.co.uk</td>\n",
       "      <td>['S1 4SE', 'EC1A 4AE', 'OX4 1JE']</td>\n",
       "      <td>https://data.commoncrawl.org/crawl-data/CC-MAI...</td>\n",
       "      <td>eo charging articles - joju solar\\nsearch for:...</td>\n",
       "    </tr>\n",
       "    <tr>\n",
       "      <th>8711</th>\n",
       "      <td>https://www.jojusolar.co.uk/portfolio-category...</td>\n",
       "      <td>www.jojusolar.co.uk</td>\n",
       "      <td>['OX4 1JE', 'EC1A 4AE', 'S1 4SE']</td>\n",
       "      <td>https://data.commoncrawl.org/crawl-data/CC-MAI...</td>\n",
       "      <td>solaredge articles - joju solar\\nsearch for:\\n...</td>\n",
       "    </tr>\n",
       "    <tr>\n",
       "      <th>...</th>\n",
       "      <td>...</td>\n",
       "      <td>...</td>\n",
       "      <td>...</td>\n",
       "      <td>...</td>\n",
       "      <td>...</td>\n",
       "    </tr>\n",
       "    <tr>\n",
       "      <th>58447</th>\n",
       "      <td>https://www.herschel-infrared.co.uk/product/po...</td>\n",
       "      <td>www.herschel-infrared.co.uk</td>\n",
       "      <td>['BS11 8AZ']</td>\n",
       "      <td>https://data.commoncrawl.org/crawl-data/CC-MAI...</td>\n",
       "      <td>herschel select 500w portable infrared panel h...</td>\n",
       "    </tr>\n",
       "    <tr>\n",
       "      <th>58494</th>\n",
       "      <td>https://propflo.co.uk/green-innovation-grant/</td>\n",
       "      <td>propflo.co.uk</td>\n",
       "      <td>['BS1 5QT']</td>\n",
       "      <td>https://data.commoncrawl.org/crawl-data/CC-MAI...</td>\n",
       "      <td>propflo’s green home tool for lenders​ receive...</td>\n",
       "    </tr>\n",
       "    <tr>\n",
       "      <th>66249</th>\n",
       "      <td>https://utilita.co.uk/energy-hub/sheffield</td>\n",
       "      <td>utilita.co.uk</td>\n",
       "      <td>['SO53 3QB', 'S1 2EU']</td>\n",
       "      <td>https://data.commoncrawl.org/crawl-data/CC-MAI...</td>\n",
       "      <td>energy hub | utilita energy\\nenergy\\nsmart ene...</td>\n",
       "    </tr>\n",
       "    <tr>\n",
       "      <th>73974</th>\n",
       "      <td>https://britishbusinessenergy.co.uk/suppliers/...</td>\n",
       "      <td>britishbusinessenergy.co.uk</td>\n",
       "      <td>['BS1 6ED']</td>\n",
       "      <td>https://data.commoncrawl.org/crawl-data/CC-MAI...</td>\n",
       "      <td>ovo business energy: prices, tariffs &amp; reviews...</td>\n",
       "    </tr>\n",
       "    <tr>\n",
       "      <th>77142</th>\n",
       "      <td>https://www.edp-environmental.co.uk/edpproject...</td>\n",
       "      <td>www.edp-environmental.co.uk</td>\n",
       "      <td>['EX2 5JL', 'N7 6DR', 'BS7 8AE', 'GU24 8HU']</td>\n",
       "      <td>https://data.commoncrawl.org/crawl-data/CC-MAI...</td>\n",
       "      <td>edpchulmleigh community college - edp chulmlei...</td>\n",
       "    </tr>\n",
       "  </tbody>\n",
       "</table>\n",
       "<p>67 rows × 5 columns</p>\n",
       "</div>"
      ],
      "text/plain": [
       "                                                 webpage  \\\n",
       "218    https://www.stashedaway.co.uk/15-easy-ways-to-...   \n",
       "6099   https://engine-shed.co.uk/news/august-investme...   \n",
       "7192   https://www.jojusolar.co.uk/solar-power-news-a...   \n",
       "8656   https://www.jojusolar.co.uk/portfolio-category...   \n",
       "8711   https://www.jojusolar.co.uk/portfolio-category...   \n",
       "...                                                  ...   \n",
       "58447  https://www.herschel-infrared.co.uk/product/po...   \n",
       "58494      https://propflo.co.uk/green-innovation-grant/   \n",
       "66249         https://utilita.co.uk/energy-hub/sheffield   \n",
       "73974  https://britishbusinessenergy.co.uk/suppliers/...   \n",
       "77142  https://www.edp-environmental.co.uk/edpproject...   \n",
       "\n",
       "                           website  \\\n",
       "218          www.stashedaway.co.uk   \n",
       "6099             engine-shed.co.uk   \n",
       "7192           www.jojusolar.co.uk   \n",
       "8656           www.jojusolar.co.uk   \n",
       "8711           www.jojusolar.co.uk   \n",
       "...                            ...   \n",
       "58447  www.herschel-infrared.co.uk   \n",
       "58494                propflo.co.uk   \n",
       "66249                utilita.co.uk   \n",
       "73974  britishbusinessenergy.co.uk   \n",
       "77142  www.edp-environmental.co.uk   \n",
       "\n",
       "                                          postcodes  \\\n",
       "218                                     ['BS7 9ST']   \n",
       "6099                                    ['BS1 6QH']   \n",
       "7192              ['EC1A 4AE', 'OX4 1JE', 'S1 4SE']   \n",
       "8656              ['S1 4SE', 'EC1A 4AE', 'OX4 1JE']   \n",
       "8711              ['OX4 1JE', 'EC1A 4AE', 'S1 4SE']   \n",
       "...                                             ...   \n",
       "58447                                  ['BS11 8AZ']   \n",
       "58494                                   ['BS1 5QT']   \n",
       "66249                        ['SO53 3QB', 'S1 2EU']   \n",
       "73974                                   ['BS1 6ED']   \n",
       "77142  ['EX2 5JL', 'N7 6DR', 'BS7 8AE', 'GU24 8HU']   \n",
       "\n",
       "                                                  CCpath  \\\n",
       "218    https://data.commoncrawl.org/crawl-data/CC-MAI...   \n",
       "6099   https://data.commoncrawl.org/crawl-data/CC-MAI...   \n",
       "7192   https://data.commoncrawl.org/crawl-data/CC-MAI...   \n",
       "8656   https://data.commoncrawl.org/crawl-data/CC-MAI...   \n",
       "8711   https://data.commoncrawl.org/crawl-data/CC-MAI...   \n",
       "...                                                  ...   \n",
       "58447  https://data.commoncrawl.org/crawl-data/CC-MAI...   \n",
       "58494  https://data.commoncrawl.org/crawl-data/CC-MAI...   \n",
       "66249  https://data.commoncrawl.org/crawl-data/CC-MAI...   \n",
       "73974  https://data.commoncrawl.org/crawl-data/CC-MAI...   \n",
       "77142  https://data.commoncrawl.org/crawl-data/CC-MAI...   \n",
       "\n",
       "                                                    text  \n",
       "218    15 easy ways to save energy costs\\n{{{ data.va...  \n",
       "6099   august investment news - engine shed\\nwe use c...  \n",
       "7192   why we were shortlisted for installer of the y...  \n",
       "8656   eo charging articles - joju solar\\nsearch for:...  \n",
       "8711   solaredge articles - joju solar\\nsearch for:\\n...  \n",
       "...                                                  ...  \n",
       "58447  herschel select 500w portable infrared panel h...  \n",
       "58494  propflo’s green home tool for lenders​ receive...  \n",
       "66249  energy hub | utilita energy\\nenergy\\nsmart ene...  \n",
       "73974  ovo business energy: prices, tariffs & reviews...  \n",
       "77142  edpchulmleigh community college - edp chulmlei...  \n",
       "\n",
       "[67 rows x 5 columns]"
      ]
     },
     "execution_count": 93,
     "metadata": {},
     "output_type": "execute_result"
    }
   ],
   "source": [
    "# rename columns\n",
    "df.columns = ['webpage', 'website', 'postcodes', 'CCpath', 'text']\n",
    "\n",
    "# filter to remove any webpages with more than two / symbols after the .co.uk\n",
    "dftest = df[~df['webpage'].str.contains(r'\\.co\\.uk/[^/]+/[^/]+/[^/]+')]\n",
    "dftest.reset_index(drop=True, inplace=True)\n",
    "\n",
    "dftest[dftest['text'].str.contains(\"smart meter\")]"
   ]
  },
  {
   "cell_type": "code",
   "execution_count": 94,
   "metadata": {},
   "outputs": [
    {
     "data": {
      "text/plain": [
       "\"propflo’s green home tool for lenders\\u200b receives innovation grant - propflo\\nskip to content\\nblog\\nabout us\\nmenu toggle\\nwho we are\\npress releases\\nwho we are\\nblog\\npress releases\\nmain menu\\nwho we are\\nblog\\npress releases\\npropflo’s green home tool for lenders\\u200b receives innovation grant\\n/ press release / by felix\\npropflo's green home tool for lenders receives innovation grant\\nbristol, march. 9th, 2023. propflo, an award winning proptech company, is excited to announce that it has won an innovation grant to further develop its green engagement and decision tool to help homeowners make their properties more energy efficient. the £35k grant is part of the business innovation fund, a programme funded by the west of england combined authority.\\na key barrier for homeowners undertaking energy efficiency upgrades is that a convincing investment case isn’t presented and there is then a lack of ongoing support and engagement. propflo’s tool will help solve this problem by providing homeowners with a clear and comprehensive view of the ‘green value’ they can achieve by investing in energy-efficient upgrades, and support through-out their journey with impact monitoring, next steps and a property vault for key documents in one place.\\nthe grant will fund enhancements to machine learning models for personalised recommendations based on each homeowner’s unique circumstances, overlaying propflo’s property data, and testing an integration to smart meter data for real-time benchmarking and impact monitoring. this will help homeowners make informed decisions about which upgrades to prioritise to achieve the maximum energy savings and financial benefits, and then track these benefits over time.\\n\\u200d“we are thrilled to receive this grant and continue our mission to help homeowners make more sustainable decisions about their properties. our tool will provide lenders, estate agents and mortgage brokers with a cutting-edge tool to help homeowners overcome keys barriers to retrofitting their properties, making it easier for them to invest in energy-efficient upgrades and save on their energy bills.”\\nluke loveridge founder and ceo\\n\\u200d“with increasing regulatory and societal pressure on lenders to do more on energy efficiency, it’s vitally important that the whole ecosystem provides support to property owners to make their homes greener now, but also support them when they need to make future upgrades. this is where technology can play a vital role, especially for lenders.”\\nying tan lead investor and non-executive director\\nabout propflo\\npropflo is an award-winning engagement platform that provides innovative tools powered by data and ai to help homeowners manage their properties and make them more energy efficient.\\nthe company’s mission is to empower homeowners to make the best, most sustainable decisions through-out the property ownership lifecycle. propflo’s solutions are designed to be user-friendly and accessible, making it easy for homeowners to make informed decisions about their properties.\\nit was founded by proptech entrepreneur luke loveridge and geospatial and risk data scientist dr daniel moyo. its lead investor, ying tan, is an industry expert having built and sold one of the largest specialist mortgage brokers in the country. the business has a strong advisory team including the ceo of yopa verona frankish, and professor mike tipping who is a world-leading ai expert.\\nwest of england business innovation fund\\nthe west of england business innovation fund (bif) is a three-year project, managed by the west of england combined authority, that will lead to over £3m investment in supporting smes to undertake research and development activities. the project promotes the west of england as a champion of innovation and highlights the importance of innovation in a post covid-19 economic recovery, including its contribution to clean and inclusive growth.\\neuropean regional development fund\\nthe bif is receiving up to £1,451,825 of funding from the england european regional development fund as part of the european structural and investment funds growth programme 2014-2020. the department for levelling up, housing & communities (formerly mhclg) (and in london the intermediate body greater london authority) is the managing authority for european regional development fund. established by the european union, the european regional development fund helps local areas stimulate their economic development by investing in projects which will support innovation, businesses, create jobs and local community regenerations. for more information visit https://www.gov.uk/european-growth-funding.\\nwww.propflo.co.uk\\nwww.linkedin.com/company/propflo\\ncontacts:\\npropflo: felix schraff\\ncomms@propflo.co.uk\\npress kit\\npost navigation\\n← previous post\\nnext post →\\nfacebook twitter linkedin\\npress releases\\nwho we are\\ncontact\\npress kit\\nvacancies\\nprivacy policy\\nterms of use\\nmenu\\npress releases\\nwho we are\\ncontact\\npress kit\\nvacancies\\nprivacy policy\\nterms of use\\nst brandon’s house, 27-29 great george street, bristol, bs1 5qt, united kingdom | company number: 13486635 | vat number: gb384337574\\n© propflo 2023. all rights reserved.\\nwe are using cookies to give you the best experience on our website.\\nyou can find out more about which cookies we are using or switch them off in\\nsettings\\n.\\naccept\\nreject\\nsettings\\nscroll to top\\nscroll to top\\nclose gdpr cookie settings\\nprivacy overview\\nstrictly necessary cookies\\n3rd party cookies\\nprivacy overview\\nthis website uses cookies so that we can provide you with the best user experience possible. cookie information is stored in your browser and performs functions such as recognising you when you return to our website and helping our team to understand which sections of the website you find most interesting and useful.\\nstrictly necessary cookies\\nstrictly necessary cookie should be enabled at all times so that we can save your preferences for cookie settings.\\nif you disable this cookie, we will not be able to save your preferences. this means that every time you visit this website you will need to enable or disable cookies again.\\nenable or disable cookies\\n3rd party cookies\\nthis website uses google analytics , facebook meta pixel, zoho salesiq and linkedin insights to collect information such as the number of visitors to the site, ad campaign performance and the most popular pages.\\nkeeping this cookie enabled helps us to improve our website.\\nenable or disable cookies\\nplease enable strictly necessary cookies first so that we can save your preferences!\\nenable all\\nreject all\\npowered by gdpr cookie compliance\\n\""
      ]
     },
     "execution_count": 94,
     "metadata": {},
     "output_type": "execute_result"
    }
   ],
   "source": [
    "dftest.iloc[58494]['text']"
   ]
  },
  {
   "cell_type": "code",
   "execution_count": 85,
   "metadata": {},
   "outputs": [
    {
     "data": {
      "text/plain": [
       "'https://www.stashedaway.co.uk/15-easy-ways-to-save-energy-costs/'"
      ]
     },
     "execution_count": 85,
     "metadata": {},
     "output_type": "execute_result"
    }
   ],
   "source": [
    "dftest.iloc[218]['webpage']"
   ]
  },
  {
   "cell_type": "code",
   "execution_count": null,
   "metadata": {},
   "outputs": [],
   "source": []
  }
 ],
 "metadata": {
  "kernelspec": {
   "display_name": "Python 3",
   "language": "python",
   "name": "python3"
  },
  "language_info": {
   "codemirror_mode": {
    "name": "ipython",
    "version": 3
   },
   "file_extension": ".py",
   "mimetype": "text/x-python",
   "name": "python",
   "nbconvert_exporter": "python",
   "pygments_lexer": "ipython3",
   "version": "3.9.7"
  }
 },
 "nbformat": 4,
 "nbformat_minor": 2
}
