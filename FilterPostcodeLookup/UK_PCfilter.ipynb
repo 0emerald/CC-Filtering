{
 "cells": [
  {
   "cell_type": "code",
   "execution_count": 4,
   "metadata": {},
   "outputs": [],
   "source": [
    "import os\n",
    "import re\n",
    "import sys\n",
    "import csv\n",
    "import pandas as pd\n",
    "import numpy as np"
   ]
  },
  {
   "cell_type": "code",
   "execution_count": 5,
   "metadata": {},
   "outputs": [
    {
     "name": "stderr",
     "output_type": "stream",
     "text": [
      "/tmp/ipykernel_19421/2638647011.py:1: DtypeWarning: Columns (26,31) have mixed types. Specify dtype option on import or set low_memory=False.\n",
      "  pclookup = pd.read_csv('NSPL21_AUG_2023_UK.csv')\n"
     ]
    }
   ],
   "source": [
    "pclookup = pd.read_csv('NSPL21_AUG_2023_UK.csv')\n",
    "\n",
    "pclookup = pclookup[['pcds','laua','lat','long']]"
   ]
  },
  {
   "cell_type": "code",
   "execution_count": 8,
   "metadata": {},
   "outputs": [],
   "source": [
    "pclookup.to_csv(\"UK_PostcodeLookup.csv\")"
   ]
  },
  {
   "cell_type": "code",
   "execution_count": null,
   "metadata": {},
   "outputs": [],
   "source": []
  }
 ],
 "metadata": {
  "kernelspec": {
   "display_name": "base",
   "language": "python",
   "name": "python3"
  },
  "language_info": {
   "codemirror_mode": {
    "name": "ipython",
    "version": 3
   },
   "file_extension": ".py",
   "mimetype": "text/x-python",
   "name": "python",
   "nbconvert_exporter": "python",
   "pygments_lexer": "ipython3",
   "version": "3.9.7"
  }
 },
 "nbformat": 4,
 "nbformat_minor": 2
}
